{
 "cells": [
  {
   "cell_type": "code",
   "execution_count": 1,
   "metadata": {},
   "outputs": [],
   "source": [
    "import datasets\n",
    "from datasets import load_dataset\n",
    "import openai\n",
    "import os\n",
    "import dspy\n",
    "from dotenv import load_dotenv\n",
    "\n",
    "load_dotenv()\n",
    "root_path=\".\"\n",
    "os.environ[\"DSP_NOTEBOOK_CACHEDIR\"] = os.path.join(root_path, 'cache')\n",
    "\n",
    "openai_key = os.getenv('OPENAI_API_KEY')  # or replace with your API key (optional)\n",
    "\n",
    "colbert_server = 'http://index.contextual.ai:8893/api/search'\n",
    "# colbert_server = \"http://20.102.90.50:2017/wiki17_abstracts\"\n",
    "\n",
    "lm = dspy.OpenAI(\n",
    "    deployment_id=os.getenv('OPENAI_DEPLOYMENT'),\n",
    "    api_key=os.getenv('OPENAI_API_KEY'),\n",
    "    api_base=os.getenv('OPENAI_ENDPOINT'),\n",
    "    api_provider= \"azure\",\n",
    "    model_type=\"chat\",\n",
    "    api_version=os.getenv('OPENAI_API_VERSION'))\n",
    "    # model='gpt-3.5-turbo', api_key=openai_key)\n",
    "\n",
    "rm = dspy.ColBERTv2(url=colbert_server)\n",
    "\n",
    "dspy.settings.configure(lm=lm, rm=rm)\n",
    "\n",
    "squad = load_dataset(\"squad\")\n",
    "\n",
    "def get_squad_split(squad, split=\"validation\"):\n",
    "    \"\"\"\n",
    "    Use `split='train'` for the train split.\n",
    "\n",
    "    Returns\n",
    "    -------\n",
    "    list of dspy.Example with attributes question, answer\n",
    "\n",
    "    \"\"\"\n",
    "    data = zip(*[squad[split][field] for field in squad[split].features])\n",
    "    exs = [dspy.Example(question=q, answer=a['text'][0]).with_inputs(\"question\")\n",
    "           for eid, title, context, q, a in data]\n",
    "    return exs\n",
    "\n",
    "squad_train = get_squad_split(squad, split=\"train\")\n",
    "\n",
    "squad_dev = get_squad_split(squad)\n",
    "\n",
    "import random\n",
    "\n",
    "random.seed(1)\n",
    "\n",
    "dev_exs = random.sample(squad_dev, k=200)\n",
    "\n",
    "from dspy.evaluate import answer_exact_match\n",
    "from dspy.evaluate.evaluate import Evaluate\n",
    "\n",
    "dev_evaluater = Evaluate(\n",
    "    devset=dev_exs, # 200 examples\n",
    "    num_threads=1,\n",
    "    display_progress=True,\n",
    "    display_table=5)\n",
    "\n",
    "tiny_evaluater = Evaluate(\n",
    "    devset=dev_exs[: 15],\n",
    "    num_threads=1,\n",
    "    display_progress=True,\n",
    "    display_table=5)"
   ]
  },
  {
   "cell_type": "code",
   "execution_count": 2,
   "metadata": {},
   "outputs": [
    {
     "name": "stdout",
     "output_type": "stream",
     "text": [
      "./cache/compiler\n"
     ]
    }
   ],
   "source": [
    "from dsp.utils import deduplicate\n",
    "\n",
    "class ContextQASignature(dspy.Signature):\n",
    "    __doc__ = \"\"\"Answer questions with short factoid answers.\"\"\"\n",
    "\n",
    "    context = dspy.InputField(desc=\"may contain relevant facts\")\n",
    "    question = dspy.InputField()\n",
    "    answer = dspy.OutputField(desc=\"often between 1 and 5 words\")\n",
    "\n",
    "class OptimizedSignature(dspy.Signature):\n",
    "    __doc__ = \"\"\"The language model should understand the purpose of the question and provide a helpful and concise response that directly answers the question. It should use specific facts, information, and examples.\"\"\"\n",
    "\n",
    "    context = dspy.InputField(desc=\"may contain relevant facts\")\n",
    "    question = dspy.InputField()\n",
    "    answer = dspy.OutputField(desc=\"often between 1 and 5 words\", prefix=\"Response:\")\n",
    "\n",
    "class GenerateSearchQuery(dspy.Signature):\n",
    "    \"\"\"Write a simple search query that will help answer a complex question.\"\"\"\n",
    "\n",
    "    context = dspy.InputField(desc=\"may contain relevant facts\")\n",
    "    question = dspy.InputField()\n",
    "    query = dspy.OutputField()\n",
    "\n",
    "class SummarizeSignature(dspy.Signature):\n",
    "    __doc__ = \"\"\"Write a Brief summary of the given context. Include the information from the context which can answer the provided question.\"\"\"\n",
    "\n",
    "    context = dspy.InputField(desc=\"List of passages to summarize\")\n",
    "    question = dspy.InputField(desc=\"Question to be answered\")\n",
    "    summary = dspy.OutputField(desc=\"The summary of the above passages. 1-2 sentences.\")\n",
    "\n",
    "def validate_context_and_answer(example, pred, trace=None):\n",
    "    return answer_exact_match(example=example, pred=pred, trace=trace) # and dspy.evaluate.answer_passage_match(example, pred)\n",
    "\n",
    "from dspy.teleprompt import BootstrapFewShot, BootstrapFewShotWithRandomSearch, SignatureOptimizer\n",
    "\n",
    "def bootstrap_random_search_optimize(model):\n",
    "    config = dict(max_bootstrapped_demos=3, max_labeled_demos=3, num_threads=1)\n",
    "    optimizer = BootstrapFewShotWithRandomSearch(metric=validate_context_and_answer, **config)\n",
    "    return optimizer.compile(model, trainset=squad_train[:50], valset=dev_exs[:15])\n",
    "\n",
    "def bootstrap_optimize(model):\n",
    "    config = dict(max_bootstrapped_demos=3, max_labeled_demos=3)\n",
    "    optimizer = BootstrapFewShot(metric=validate_context_and_answer, **config)\n",
    "    return optimizer.compile(model, trainset=squad_train[:50], valset=dev_exs[:15])\n",
    "\n",
    "def signature_optimizer(model):\n",
    "    optimizer = SignatureOptimizer(breadth=3, depth=3, metric=validate_context_and_answer, verbose=True)\n",
    "    kwargs = dict(num_threads=1, display_progress=True, display_table=False)\n",
    "    return optimizer.compile(model, devset=dev_exs[:30], eval_kwargs=kwargs)\n",
    "\n",
    "class RAGMultiHop(dspy.Module):\n",
    "    def __init__(self, num_passages=3, hops=4):\n",
    "        super().__init__()\n",
    "\n",
    "        self.generate_queries = [dspy.ChainOfThought(GenerateSearchQuery) for _ in range(hops)]\n",
    "        self.retrieve = dspy.Retrieve(k=num_passages)\n",
    "        self.generate_answer = dspy.ChainOfThought(OptimizedSignature)\n",
    "        self.summarize = dspy.Predict(SummarizeSignature)\n",
    "        self.hops = hops\n",
    "\n",
    "    def forward(self, question):\n",
    "        context = []\n",
    "        \n",
    "        for hop in range(self.hops):\n",
    "            query = self.generate_queries[hop](context=context, question=question).query\n",
    "            passages = self.retrieve(query).passages\n",
    "            context = deduplicate(context+passages)\n",
    "\n",
    "\n",
    "        summary = self.summarize(context=context, question=question).summary\n",
    "        \n",
    "        prediction = self.generate_answer(context=summary, question=question)\n",
    "        return dspy.Prediction(context=context, rationale=prediction.rationale, answer=prediction.answer)\n",
    "\n",
    "# class RAG(dspy.Module):\n",
    "#     def __init__(self, num_passages=3):\n",
    "#         super().__init__()\n",
    "#         self.retrieve = dspy.Retrieve(k=num_passages)\n",
    "        \n",
    "#         self.generate_answer = dspy.ChainOfThought(OptimizedSignature)\n",
    "\n",
    "#     def forward(self, question):\n",
    "#         context = self.retrieve(question).passages\n",
    "        \n",
    "#         prediction = self.generate_answer(context=context, question=question)\n",
    "#         return dspy.Prediction(context=context, rationale=prediction.rationale, answer=prediction.answer)\n",
    "    \n",
    "\n",
    "# class CoT(dspy.Module):\n",
    "#     def __init__(self):\n",
    "#         super().__init__()\n",
    "#         self.prog = dspy.ChainOfThought(\"question -> answer\")\n",
    "    \n",
    "#     def forward(self, question):\n",
    "#         return self.prog(question=question)"
   ]
  },
  {
   "cell_type": "code",
   "execution_count": 3,
   "metadata": {},
   "outputs": [
    {
     "name": "stderr",
     "output_type": "stream",
     "text": [
      " 18%|█████████████████████████████████████████████████████████████████████████████████████████████████████████████████████████████████████████████████████████████████████████████▎                                                                                                                                                                                                                                                                                                                                                                                                                                                                                                                                                                                                                                                                                                                                                                                                                     | 9/50 [00:32<02:29,  3.65s/it]\n"
     ]
    },
    {
     "name": "stdout",
     "output_type": "stream",
     "text": [
      "Bootstrapped 3 full traces after 10 examples in round 0.\n",
      "\n",
      "\n",
      "\n",
      "\n",
      "The language model should understand the purpose of the question and provide a helpful and concise response that directly answers the question. It should use specific facts, information, and examples.\n",
      "\n",
      "---\n",
      "\n",
      "Question: What individuals live at Fatima House at Notre Dame?\n",
      "Response: Retired priests and brothers\n",
      "\n",
      "Question: To whom was John B. Kroc married?\n",
      "Response: Ray Kroc\n",
      "\n",
      "---\n",
      "\n",
      "Follow the following format.\n",
      "\n",
      "Context: may contain relevant facts\n",
      "\n",
      "Question: ${question}\n",
      "\n",
      "Reasoning: Let's think step by step in order to ${produce the answer}. We ...\n",
      "\n",
      "Response: often between 1 and 5 words\n",
      "\n",
      "---\n",
      "\n",
      "Context: There are three student newspapers at Notre Dame.\n",
      "\n",
      "Question: How many student news papers are found at Notre Dame?\n",
      "\n",
      "Reasoning: Let's think step by step in order to\u001b[32m produce the answer. We know that there are three student newspapers at Notre Dame.\n",
      "\n",
      "Response: Three\u001b[0m\n",
      "\n",
      "\n",
      "\n",
      "====================BASE MODEL====================\n"
     ]
    },
    {
     "name": "stderr",
     "output_type": "stream",
     "text": [
      "Average Metric: 2 / 15  (13.3): 100%|██████████████████████████████████████████████████████████████████████████████████████████████████████████████████████████████████████████████████████████████████████████████████████████████████████████████████████████████████████████████████████████████████████████████████████████████████████████████████████████████████████████████████████████████████████████████████████████████████████████████████████████████████████████████████████████████████████████████████████████████████████████████████████████████████████████████████████████████████████████████████████████████████████████████████████████████████████████████████████████████████████████████████████████████████████████████████████████████████████████████████████████████████████████████████████████████████████████████████████████████████████████████████████████████████████████████████████████████████████████████████████████████████████████████████████████████████| 15/15 [01:01<00:00,  4.08s/it]\n",
      "/anaconda/envs/cs224u-cpu/lib/python3.10/site-packages/dspy/evaluate/evaluate.py:142: FutureWarning: DataFrame.applymap has been deprecated. Use DataFrame.map instead.\n",
      "  df = df.applymap(truncate_cell)\n"
     ]
    },
    {
     "name": "stdout",
     "output_type": "stream",
     "text": [
      "Average Metric: 2 / 15  (13.3%)\n"
     ]
    },
    {
     "data": {
      "text/html": [
       "<style type=\"text/css\">\n",
       "#T_1aa73 th {\n",
       "  text-align: left;\n",
       "}\n",
       "#T_1aa73 td {\n",
       "  text-align: left;\n",
       "}\n",
       "#T_1aa73_row0_col0, #T_1aa73_row0_col1, #T_1aa73_row0_col2, #T_1aa73_row0_col3, #T_1aa73_row0_col4, #T_1aa73_row0_col5, #T_1aa73_row1_col0, #T_1aa73_row1_col1, #T_1aa73_row1_col2, #T_1aa73_row1_col3, #T_1aa73_row1_col4, #T_1aa73_row1_col5, #T_1aa73_row2_col0, #T_1aa73_row2_col1, #T_1aa73_row2_col2, #T_1aa73_row2_col3, #T_1aa73_row2_col4, #T_1aa73_row2_col5, #T_1aa73_row3_col0, #T_1aa73_row3_col1, #T_1aa73_row3_col2, #T_1aa73_row3_col3, #T_1aa73_row3_col4, #T_1aa73_row3_col5, #T_1aa73_row4_col0, #T_1aa73_row4_col1, #T_1aa73_row4_col2, #T_1aa73_row4_col3, #T_1aa73_row4_col4, #T_1aa73_row4_col5 {\n",
       "  text-align: left;\n",
       "  white-space: pre-wrap;\n",
       "  word-wrap: break-word;\n",
       "  max-width: 400px;\n",
       "}\n",
       "</style>\n",
       "<table id=\"T_1aa73\">\n",
       "  <thead>\n",
       "    <tr>\n",
       "      <th class=\"blank level0\" >&nbsp;</th>\n",
       "      <th id=\"T_1aa73_level0_col0\" class=\"col_heading level0 col0\" >question</th>\n",
       "      <th id=\"T_1aa73_level0_col1\" class=\"col_heading level0 col1\" >example_answer</th>\n",
       "      <th id=\"T_1aa73_level0_col2\" class=\"col_heading level0 col2\" >context</th>\n",
       "      <th id=\"T_1aa73_level0_col3\" class=\"col_heading level0 col3\" >rationale</th>\n",
       "      <th id=\"T_1aa73_level0_col4\" class=\"col_heading level0 col4\" >pred_answer</th>\n",
       "      <th id=\"T_1aa73_level0_col5\" class=\"col_heading level0 col5\" >answer_exact_match</th>\n",
       "    </tr>\n",
       "  </thead>\n",
       "  <tbody>\n",
       "    <tr>\n",
       "      <th id=\"T_1aa73_level0_row0\" class=\"row_heading level0 row0\" >0</th>\n",
       "      <td id=\"T_1aa73_row0_col0\" class=\"data row0 col0\" >In 1517 who was Luther's bishop?</td>\n",
       "      <td id=\"T_1aa73_row0_col1\" class=\"data row0 col1\" >Albert of Mainz</td>\n",
       "      <td id=\"T_1aa73_row0_col2\" class=\"data row0 col2\" >['Martin Luther | Martin Luther Martin Luther, (; ; 10 November 1483 – 18 February 1546) was a German professor of theology, composer, priest, monk,...</td>\n",
       "      <td id=\"T_1aa73_row0_col3\" class=\"data row0 col3\" >produce the answer. We know that in 1517, Martin Luther was a monk and theologian in Germany. As a monk, Luther was under the authority...</td>\n",
       "      <td id=\"T_1aa73_row0_col4\" class=\"data row0 col4\" >Albrecht von Brandenburg</td>\n",
       "      <td id=\"T_1aa73_row0_col5\" class=\"data row0 col5\" >False</td>\n",
       "    </tr>\n",
       "    <tr>\n",
       "      <th id=\"T_1aa73_level0_row1\" class=\"row_heading level0 row1\" >1</th>\n",
       "      <td id=\"T_1aa73_row1_col0\" class=\"data row1 col0\" >When was the construction that changed the Rhine's Delta?</td>\n",
       "      <td id=\"T_1aa73_row1_col1\" class=\"data row1 col1\" >20th Century</td>\n",
       "      <td id=\"T_1aa73_row1_col2\" class=\"data row1 col2\" >['Delta Works | Delta Works </div> The Delta Works () is a series of construction projects in the southwest of the Netherlands to protect a...</td>\n",
       "      <td id=\"T_1aa73_row1_col3\" class=\"data row1 col3\" >produce the answer. We know that the construction that changed the Rhine's Delta took place in the second half of the 20th century.</td>\n",
       "      <td id=\"T_1aa73_row1_col4\" class=\"data row1 col4\" >Second half of the 20th century.</td>\n",
       "      <td id=\"T_1aa73_row1_col5\" class=\"data row1 col5\" >False</td>\n",
       "    </tr>\n",
       "    <tr>\n",
       "      <th id=\"T_1aa73_level0_row2\" class=\"row_heading level0 row2\" >2</th>\n",
       "      <td id=\"T_1aa73_row2_col0\" class=\"data row2 col0\" >How many companies were registered in Warsaw in 2006?</td>\n",
       "      <td id=\"T_1aa73_row2_col1\" class=\"data row2 col1\" >304,016</td>\n",
       "      <td id=\"T_1aa73_row2_col2\" class=\"data row2 col2\" >['Warsaw | such as Sydney, Istanbul, Amsterdam or Seoul. Warsaw, especially its city centre (\"Śródmieście\"), is home not only to many national institutions and government...</td>\n",
       "      <td id=\"T_1aa73_row2_col3\" class=\"data row2 col3\" >produce the answer. We know that in 2006, 304,016 companies were registered in Warsaw.</td>\n",
       "      <td id=\"T_1aa73_row2_col4\" class=\"data row2 col4\" >304,016</td>\n",
       "      <td id=\"T_1aa73_row2_col5\" class=\"data row2 col5\" >✔️ [True]</td>\n",
       "    </tr>\n",
       "    <tr>\n",
       "      <th id=\"T_1aa73_level0_row3\" class=\"row_heading level0 row3\" >3</th>\n",
       "      <td id=\"T_1aa73_row3_col0\" class=\"data row3 col0\" >What is the CJEU's duty?</td>\n",
       "      <td id=\"T_1aa73_row3_col1\" class=\"data row3 col1\" >to \"ensure that in the interpretation and application of the Treaties the law is observed\"</td>\n",
       "      <td id=\"T_1aa73_row3_col2\" class=\"data row3 col2\" >['European Union law | elected by the judges for three years. While TEU article 19(3) says the Court of Justice is the ultimate court to...</td>\n",
       "      <td id=\"T_1aa73_row3_col3\" class=\"data row3 col3\" >produce the answer. We know that the CJEU's duty is to \"ensure that in the interpretation and application of the Treaties the law is observed.\"...</td>\n",
       "      <td id=\"T_1aa73_row3_col4\" class=\"data row3 col4\" >Ensure law is observed.</td>\n",
       "      <td id=\"T_1aa73_row3_col5\" class=\"data row3 col5\" >False</td>\n",
       "    </tr>\n",
       "    <tr>\n",
       "      <th id=\"T_1aa73_level0_row4\" class=\"row_heading level0 row4\" >4</th>\n",
       "      <td id=\"T_1aa73_row4_col0\" class=\"data row4 col0\" >What would a teacher do for someone who is cocky?</td>\n",
       "      <td id=\"T_1aa73_row4_col1\" class=\"data row4 col1\" >deflate</td>\n",
       "      <td id=\"T_1aa73_row4_col2\" class=\"data row4 col2\" >['Reading comprehension | of strategies used to teach reading. Strategies vary according to the challenges like new concepts, unfamiliar vocabulary, long and complex sentences, etc....</td>\n",
       "      <td id=\"T_1aa73_row4_col3\" class=\"data row4 col3\" >produce the answer. We know that a teacher's role is to deflate the cocky and broaden the viewpoint of all students. Therefore, if someone is...</td>\n",
       "      <td id=\"T_1aa73_row4_col4\" class=\"data row4 col4\" >Address cockiness and promote humility.</td>\n",
       "      <td id=\"T_1aa73_row4_col5\" class=\"data row4 col5\" >False</td>\n",
       "    </tr>\n",
       "  </tbody>\n",
       "</table>\n"
      ],
      "text/plain": [
       "<pandas.io.formats.style.Styler at 0x7f7ec30b4d90>"
      ]
     },
     "metadata": {},
     "output_type": "display_data"
    },
    {
     "data": {
      "text/html": [
       "\n",
       "                <div style='\n",
       "                    text-align: center; \n",
       "                    font-size: 16px; \n",
       "                    font-weight: bold; \n",
       "                    color: #555; \n",
       "                    margin: 10px 0;'>\n",
       "                    ... 10 more rows not displayed ...\n",
       "                </div>\n",
       "                "
      ],
      "text/plain": [
       "<IPython.core.display.HTML object>"
      ]
     },
     "metadata": {},
     "output_type": "display_data"
    },
    {
     "name": "stdout",
     "output_type": "stream",
     "text": [
      "====================Bootstrap MODEL====================\n"
     ]
    },
    {
     "name": "stderr",
     "output_type": "stream",
     "text": [
      "Average Metric: 3 / 15  (20.0): 100%|██████████████████████████████████████████████████████████████████████████████████████████████████████████████████████████████████████████████████████████████████████████████████████████████████████████████████████████████████████████████████████████████████████████████████████████████████████████████████████████████████████████████████████████████████████████████████████████████████████████████████████████████████████████████████████████████████████████████████████████████████████████████████████████████████████████████████████████████████████████████████████████████████████████████████████████████████████████████████████████████████████████████████████████████████████████████████████████████████████████████████████████████████████████████████████████████████████████████████████████████████████████████████████████████████████████████████████████████████████████████████████████████████████████████████████████████████| 15/15 [01:08<00:00,  4.59s/it]"
     ]
    },
    {
     "name": "stdout",
     "output_type": "stream",
     "text": [
      "Average Metric: 3 / 15  (20.0%)\n"
     ]
    },
    {
     "name": "stderr",
     "output_type": "stream",
     "text": [
      "\n",
      "/anaconda/envs/cs224u-cpu/lib/python3.10/site-packages/dspy/evaluate/evaluate.py:142: FutureWarning: DataFrame.applymap has been deprecated. Use DataFrame.map instead.\n",
      "  df = df.applymap(truncate_cell)\n"
     ]
    },
    {
     "data": {
      "text/html": [
       "<style type=\"text/css\">\n",
       "#T_3387c th {\n",
       "  text-align: left;\n",
       "}\n",
       "#T_3387c td {\n",
       "  text-align: left;\n",
       "}\n",
       "#T_3387c_row0_col0, #T_3387c_row0_col1, #T_3387c_row0_col2, #T_3387c_row0_col3, #T_3387c_row0_col4, #T_3387c_row0_col5, #T_3387c_row1_col0, #T_3387c_row1_col1, #T_3387c_row1_col2, #T_3387c_row1_col3, #T_3387c_row1_col4, #T_3387c_row1_col5, #T_3387c_row2_col0, #T_3387c_row2_col1, #T_3387c_row2_col2, #T_3387c_row2_col3, #T_3387c_row2_col4, #T_3387c_row2_col5, #T_3387c_row3_col0, #T_3387c_row3_col1, #T_3387c_row3_col2, #T_3387c_row3_col3, #T_3387c_row3_col4, #T_3387c_row3_col5, #T_3387c_row4_col0, #T_3387c_row4_col1, #T_3387c_row4_col2, #T_3387c_row4_col3, #T_3387c_row4_col4, #T_3387c_row4_col5 {\n",
       "  text-align: left;\n",
       "  white-space: pre-wrap;\n",
       "  word-wrap: break-word;\n",
       "  max-width: 400px;\n",
       "}\n",
       "</style>\n",
       "<table id=\"T_3387c\">\n",
       "  <thead>\n",
       "    <tr>\n",
       "      <th class=\"blank level0\" >&nbsp;</th>\n",
       "      <th id=\"T_3387c_level0_col0\" class=\"col_heading level0 col0\" >question</th>\n",
       "      <th id=\"T_3387c_level0_col1\" class=\"col_heading level0 col1\" >example_answer</th>\n",
       "      <th id=\"T_3387c_level0_col2\" class=\"col_heading level0 col2\" >context</th>\n",
       "      <th id=\"T_3387c_level0_col3\" class=\"col_heading level0 col3\" >rationale</th>\n",
       "      <th id=\"T_3387c_level0_col4\" class=\"col_heading level0 col4\" >pred_answer</th>\n",
       "      <th id=\"T_3387c_level0_col5\" class=\"col_heading level0 col5\" >answer_exact_match</th>\n",
       "    </tr>\n",
       "  </thead>\n",
       "  <tbody>\n",
       "    <tr>\n",
       "      <th id=\"T_3387c_level0_row0\" class=\"row_heading level0 row0\" >0</th>\n",
       "      <td id=\"T_3387c_row0_col0\" class=\"data row0 col0\" >In 1517 who was Luther's bishop?</td>\n",
       "      <td id=\"T_3387c_row0_col1\" class=\"data row0 col1\" >Albert of Mainz</td>\n",
       "      <td id=\"T_3387c_row0_col2\" class=\"data row0 col2\" >['Martin Luther | Martin Luther Martin Luther, (; ; 10 November 1483 – 18 February 1546) was a German professor of theology, composer, priest, monk,...</td>\n",
       "      <td id=\"T_3387c_row0_col3\" class=\"data row0 col3\" >produce the answer. We know that Luther's bishop in 1517 was Albrecht von Brandenburg.</td>\n",
       "      <td id=\"T_3387c_row0_col4\" class=\"data row0 col4\" >Albrecht von Brandenburg</td>\n",
       "      <td id=\"T_3387c_row0_col5\" class=\"data row0 col5\" >False</td>\n",
       "    </tr>\n",
       "    <tr>\n",
       "      <th id=\"T_3387c_level0_row1\" class=\"row_heading level0 row1\" >1</th>\n",
       "      <td id=\"T_3387c_row1_col0\" class=\"data row1 col0\" >When was the construction that changed the Rhine's Delta?</td>\n",
       "      <td id=\"T_3387c_row1_col1\" class=\"data row1 col1\" >20th Century</td>\n",
       "      <td id=\"T_3387c_row1_col2\" class=\"data row1 col2\" >['Rhine | rivers and streams. Many rivers have been closed (\"dammed\") and now serve as drainage channels for the numerous polders. The construction of Delta...</td>\n",
       "      <td id=\"T_3387c_row1_col3\" class=\"data row1 col3\" >produce the answer. We know that the construction that changed the Rhine's Delta occurred in the second half of the 20th Century.</td>\n",
       "      <td id=\"T_3387c_row1_col4\" class=\"data row1 col4\" >Second half of the 20th Century</td>\n",
       "      <td id=\"T_3387c_row1_col5\" class=\"data row1 col5\" >False</td>\n",
       "    </tr>\n",
       "    <tr>\n",
       "      <th id=\"T_3387c_level0_row2\" class=\"row_heading level0 row2\" >2</th>\n",
       "      <td id=\"T_3387c_row2_col0\" class=\"data row2 col0\" >How many companies were registered in Warsaw in 2006?</td>\n",
       "      <td id=\"T_3387c_row2_col1\" class=\"data row2 col1\" >304,016</td>\n",
       "      <td id=\"T_3387c_row2_col2\" class=\"data row2 col2\" >['Warsaw | such as Sydney, Istanbul, Amsterdam or Seoul. Warsaw, especially its city centre (\"Śródmieście\"), is home not only to many national institutions and government...</td>\n",
       "      <td id=\"T_3387c_row2_col3\" class=\"data row2 col3\" >produce the answer. We know that in 2006, 304,016 companies were registered in Warsaw.</td>\n",
       "      <td id=\"T_3387c_row2_col4\" class=\"data row2 col4\" >304,016</td>\n",
       "      <td id=\"T_3387c_row2_col5\" class=\"data row2 col5\" >✔️ [True]</td>\n",
       "    </tr>\n",
       "    <tr>\n",
       "      <th id=\"T_3387c_level0_row3\" class=\"row_heading level0 row3\" >3</th>\n",
       "      <td id=\"T_3387c_row3_col0\" class=\"data row3 col0\" >What is the CJEU's duty?</td>\n",
       "      <td id=\"T_3387c_row3_col1\" class=\"data row3 col1\" >to \"ensure that in the interpretation and application of the Treaties the law is observed\"</td>\n",
       "      <td id=\"T_3387c_row3_col2\" class=\"data row3 col2\" >['European Union law | elected by the judges for three years. While TEU article 19(3) says the Court of Justice is the ultimate court to...</td>\n",
       "      <td id=\"T_3387c_row3_col3\" class=\"data row3 col3\" >produce the answer. We know that the CJEU's duty is to \"ensure that in the interpretation and application of the Treaties the law is observed\"...</td>\n",
       "      <td id=\"T_3387c_row3_col4\" class=\"data row3 col4\" >To ensure law is observed and oversee interpretation of EU law.</td>\n",
       "      <td id=\"T_3387c_row3_col5\" class=\"data row3 col5\" >False</td>\n",
       "    </tr>\n",
       "    <tr>\n",
       "      <th id=\"T_3387c_level0_row4\" class=\"row_heading level0 row4\" >4</th>\n",
       "      <td id=\"T_3387c_row4_col0\" class=\"data row4 col0\" >What would a teacher do for someone who is cocky?</td>\n",
       "      <td id=\"T_3387c_row4_col1\" class=\"data row4 col1\" >deflate</td>\n",
       "      <td id=\"T_3387c_row4_col2\" class=\"data row4 col2\" >['Teacher | for the individual students accordingly. For example, an experienced teacher and parent described the place of a teacher in learning as follows: \"The...</td>\n",
       "      <td id=\"T_3387c_row4_col3\" class=\"data row4 col3\" >produce the answer. We know that a teacher would \"deflate\" someone who is cocky.</td>\n",
       "      <td id=\"T_3387c_row4_col4\" class=\"data row4 col4\" >Deflate</td>\n",
       "      <td id=\"T_3387c_row4_col5\" class=\"data row4 col5\" >✔️ [True]</td>\n",
       "    </tr>\n",
       "  </tbody>\n",
       "</table>\n"
      ],
      "text/plain": [
       "<pandas.io.formats.style.Styler at 0x7f7ec30b7520>"
      ]
     },
     "metadata": {},
     "output_type": "display_data"
    },
    {
     "data": {
      "text/html": [
       "\n",
       "                <div style='\n",
       "                    text-align: center; \n",
       "                    font-size: 16px; \n",
       "                    font-weight: bold; \n",
       "                    color: #555; \n",
       "                    margin: 10px 0;'>\n",
       "                    ... 10 more rows not displayed ...\n",
       "                </div>\n",
       "                "
      ],
      "text/plain": [
       "<IPython.core.display.HTML object>"
      ]
     },
     "metadata": {},
     "output_type": "display_data"
    },
    {
     "data": {
      "text/plain": [
       "20.0"
      ]
     },
     "execution_count": 3,
     "metadata": {},
     "output_type": "execute_result"
    }
   ],
   "source": [
    "model = RAGMultiHop()\n",
    "# model = signature_optimizer(model)\n",
    "bootstrap_model = bootstrap_optimize(model)\n",
    "# bootstrap_random_search_model = bootstrap_random_search_optimize(model)\n",
    "# context = model.retrieve(\"What are some foods?\").passages\n",
    "\n",
    "# pred = model(\"What are some foods?\")\n",
    "# print(pred)\n",
    "lm.inspect_history(n=1)\n",
    "\n",
    "print(\"====================BASE MODEL====================\")\n",
    "tiny_evaluater(model, metric=answer_exact_match)\n",
    "print(\"====================Bootstrap MODEL====================\")\n",
    "tiny_evaluater(bootstrap_model, metric=answer_exact_match)\n",
    "# print(\"====================Bootstrap Random search MODEL====================\")\n",
    "# tiny_evaluater(bootstrap_random_search_model, metric=answer_exact_match)"
   ]
  },
  {
   "cell_type": "code",
   "execution_count": 6,
   "metadata": {},
   "outputs": [
    {
     "data": {
      "text/plain": [
       "Prediction(\n",
       "    context=['Aborigines (mythology) | Aborigines (mythology) The Aborigines in Roman mythology are the oldest inhabitants of central Italy, connected in legendary history with Aeneas, Latinus and Evander. They were supposed to have descended from their mountain home near Reate (an ancient Sabine town) upon Latium, where they expelled the Siceli and subsequently settled down as Latini under a King Latinus. The most generally accepted etymology of the Latin word aborigines is that it derives from \"ab origine\", according to which they were the original inhabitants of the country, although Cato regarded them as Hellenic immigrants, not as a native Italian people. Other etymological explanations', 'Aborigines (mythology) | suggested are \"arborigines\", meaning \"tree-born,\" and \"aberrigines\", meaning \"nomads\". Lycophron calls a people of central Italy, \"Boreigonoi\". The Aborigines were believed to have been descendants of the Pelasgians, the mythical ancestors of all Greek peoples. Their earliest known home was Reate, an ancient Sabine town to the north-east of Latium near Carseoli. These Aborigines were driven from their mountain home by the Sabines and settled on the river Anio. The Sicels, who inhabited Latium at the time, gave way to the Aborigines, and a portion of them emigrated to Sicily, providing the origin for the island\\'s name. The emigration of', 'Aborigines (mythology) | from the Umbrians. In Latium itself the Aborigines had the cities Antemnae, Caenina, Ficulnea, Tellenae, and Tibur some of which Dionysius attests were taken from the Siculians. Aborigines (mythology) The Aborigines in Roman mythology are the oldest inhabitants of central Italy, connected in legendary history with Aeneas, Latinus and Evander. They were supposed to have descended from their mountain home near Reate (an ancient Sabine town) upon Latium, where they expelled the Siceli and subsequently settled down as Latini under a King Latinus. The most generally accepted etymology of the Latin word aborigines is that it derives from \"ab origine\",', 'Aborigines (mythology) | the Sicels to Sicily is said to have taken place in either 1264 BC or 1035 BC (Thucydides). The remaining Siculians joined with the Aborigines eventually becoming the people known as \"Prisci Latini\" (meaning \"old Latins\"), that is \"Prisci et Latini\", or simply \"Latini\". The Aborigines did not become \"Latini\" until the reign of their king, Latinus, from whom the Romans attributed their name. This was after the arrival of the Trojans with Aeneas in the aftermath of the Trojan War. The following list is based on Dionysius of Halicarnassus. All of these cities are claimed to have been taken'],\n",
       "    rationale='produce the answer. We know that in Roman mythology, the Aborigines are the oldest inhabitants of central Italy. They are connected in legendary history with Aeneas, Latinus, and Evander. They were believed to have descended from their mountain home near Reate and settled in Latium.',\n",
       "    answer='Oldest inhabitants of central Italy'\n",
       ")"
      ]
     },
     "execution_count": 6,
     "metadata": {},
     "output_type": "execute_result"
    }
   ],
   "source": [
    "bootstrap_model(\"what are aborigines?\")"
   ]
  },
  {
   "cell_type": "code",
   "execution_count": 7,
   "metadata": {},
   "outputs": [
    {
     "name": "stdout",
     "output_type": "stream",
     "text": [
      "\n",
      "\n",
      "\n",
      "\n",
      "The language model should understand the purpose of the question and provide a helpful and concise response that directly answers the question. It should use specific facts, information, and examples.\n",
      "\n",
      "---\n",
      "\n",
      "Follow the following format.\n",
      "\n",
      "Context: may contain relevant facts\n",
      "\n",
      "Question: ${question}\n",
      "\n",
      "Reasoning: Let's think step by step in order to ${produce the answer}. We ...\n",
      "\n",
      "Response: often between 1 and 5 words\n",
      "\n",
      "---\n",
      "\n",
      "Context: The Scholastic Magazine of Notre Dame began publishing in September 1876.\n",
      "\n",
      "Question: When did the Scholastic Magazine of Notre dame begin publishing?\n",
      "\n",
      "Reasoning: Let's think step by step in order to produce the answer. We know that the Scholastic Magazine of Notre Dame began publishing in September 1876.\n",
      "\n",
      "Response: September 1876\n",
      "\n",
      "---\n",
      "\n",
      "Context: The daily student paper at Notre Dame is called \"The Observer.\"\n",
      "\n",
      "Question: What is the daily student paper at Notre Dame called?\n",
      "\n",
      "Reasoning: Let's think step by step in order to produce the answer. We know that Notre Dame has a daily student paper. The question is asking for the name of this paper.\n",
      "\n",
      "Response: \"The Observer\"\n",
      "\n",
      "---\n",
      "\n",
      "Context: There are three student newspapers at Notre Dame.\n",
      "\n",
      "Question: How many student news papers are found at Notre Dame?\n",
      "\n",
      "Reasoning: Let's think step by step in order to produce the answer. We know that there are three student newspapers at Notre Dame.\n",
      "\n",
      "Response: Three\n",
      "\n",
      "---\n",
      "\n",
      "Context: The Aborigines in Roman mythology are the oldest inhabitants of central Italy, connected in legendary history with Aeneas, Latinus, and Evander. They were believed to have descended from their mountain home near Reate and settled in Latium.\n",
      "\n",
      "Question: what are aborigines?\n",
      "\n",
      "Reasoning: Let's think step by step in order to\u001b[32m produce the answer. We know that in Roman mythology, the Aborigines are the oldest inhabitants of central Italy. They are connected in legendary history with Aeneas, Latinus, and Evander. They were believed to have descended from their mountain home near Reate and settled in Latium.\n",
      "\n",
      "Response: Oldest inhabitants of central Italy\u001b[0m\n",
      "\n",
      "\n",
      "\n"
     ]
    }
   ],
   "source": [
    "lm.inspect_history(n=1)"
   ]
  },
  {
   "cell_type": "code",
   "execution_count": 8,
   "metadata": {},
   "outputs": [
    {
     "name": "stderr",
     "output_type": "stream",
     "text": [
      "  0%|                                                                                                                                                                                                                                                                                                                                                                                                                                                                                                                                                                                                                                                                                                                                                                                                                                                                                                                                                                                                          | 0/400 [00:00<?, ?it/s]100%|████████████████████████████████████████████████████████████████████████████████████████████████████████████████████████████████████████████████████████████████████████████████████████████████████████████████████████████████████████████████████████████████████████████████████████████████████████████████████████████████████████████████████████████████████████████████████████████████████████████████████████████████████████████████████████████████████████████████████████████████████████████████████████████████████████████████████████████████████████████████████████████████████████████████████████████████████████████████████████████████████████████████████████████████████████████████████████████████████████████████████████████████████████████████████████████████████████████████████████████████████████████████████████████████████████████████████████████████████████████████████████████████████████████████████████████████████████████████████████████████| 400/400 [24:00<00:00,  3.60s/it]\n"
     ]
    }
   ],
   "source": [
    "import json\n",
    "import tqdm\n",
    "\n",
    "def create_bakeoff_submission(model, file_name=\"cs224u-openqa-bakeoff-entry.json\"):\n",
    "    \"\"\"\"\n",
    "    The argument `model` is a `dspy.Module`. The return value of its\n",
    "    `forward` method must have an `answer` attribute.\n",
    "    \"\"\"\n",
    "\n",
    "    filename = os.path.join(\"data\", \"openqa\", \"cs224u-openqa-test-unlabeled.txt\")\n",
    "\n",
    "    # This should become a mapping from questions (str) to response\n",
    "    # dicts from your system.\n",
    "    gens = {}\n",
    "\n",
    "    with open(filename) as f:\n",
    "        questions = f.read().splitlines()\n",
    "\n",
    "    # Here we loop over the questions, run the system `model`, and\n",
    "    # store its `answer` value as the prediction:\n",
    "    for question in tqdm.tqdm(questions):\n",
    "        try:\n",
    "            gens[question] = model(question=question).answer\n",
    "        except:\n",
    "            print(\"Didn't work for the following prompt {}\".format(question))\n",
    "            gens[question] = \"\"\n",
    "            continue\n",
    "\n",
    "    # Quick tests we advise you to run:\n",
    "    # 1. Make sure `gens` is a dict with the questions as the keys:\n",
    "    assert all(question in gens for q in questions)\n",
    "    # 2. Make sure the values are str:\n",
    "    assert all(isinstance(d, str) for d in gens.values())\n",
    "\n",
    "    # And finally the output file:\n",
    "    with open(file_name, \"wt\") as f:\n",
    "        json.dump(gens, f, indent=4)\n",
    "\n",
    "# create_bakeoff_submission(model, file_name=\"cs224u-openqa-bakeoff-entry-base-model_original_index.json\")\n",
    "create_bakeoff_submission(bootstrap_model, file_name=\"cs224u-openqa-bakeoff-entry-bootstrapmodel_original_index.json\")\n",
    "# create_bakeoff_submission(bootstrap_random_search_model, file_name=\"cs224u-openqa-bakeoff-entry-bootstrapwithrandonsearch_original_index.json\")"
   ]
  },
  {
   "cell_type": "code",
   "execution_count": 4,
   "metadata": {},
   "outputs": [
    {
     "name": "stderr",
     "output_type": "stream",
     "text": [
      "Average Metric: 0 / 15  (0.0): 100%|██████████████████████████████████████████████████████████████████████████████████████████████████████████████████████████████████████████████████████████████████████████████████████████████████████████████████████████████████████████████████████████████████████████████████████████████████████████████████████████████████████████████████████████████████████████████████████████████████████████████████████████████████████████████████████████████████████████████████████████████████████████████████████████████████████████████████████████████████████████████████████████████████████████████████████████████████████████████████████████████████████████████████████████████████████████████████████████████████████████████████████████████████████████████████████████████████████████████████████████████████████████████████████████████████████████████████████████████████████████████████████████████████████████████████████████████████| 15/15 [00:00<00:00, 346.82it/s]\n",
      "/anaconda/envs/cs224u-cpu/lib/python3.10/site-packages/dspy/evaluate/evaluate.py:142: FutureWarning: DataFrame.applymap has been deprecated. Use DataFrame.map instead.\n",
      "  df = df.applymap(truncate_cell)\n"
     ]
    },
    {
     "name": "stdout",
     "output_type": "stream",
     "text": [
      "Average Metric: 0 / 15  (0.0%)\n"
     ]
    },
    {
     "data": {
      "text/html": [
       "<style type=\"text/css\">\n",
       "#T_d771d th {\n",
       "  text-align: left;\n",
       "}\n",
       "#T_d771d td {\n",
       "  text-align: left;\n",
       "}\n",
       "#T_d771d_row0_col0, #T_d771d_row0_col1, #T_d771d_row0_col2, #T_d771d_row0_col3, #T_d771d_row0_col4, #T_d771d_row0_col5, #T_d771d_row1_col0, #T_d771d_row1_col1, #T_d771d_row1_col2, #T_d771d_row1_col3, #T_d771d_row1_col4, #T_d771d_row1_col5, #T_d771d_row2_col0, #T_d771d_row2_col1, #T_d771d_row2_col2, #T_d771d_row2_col3, #T_d771d_row2_col4, #T_d771d_row2_col5, #T_d771d_row3_col0, #T_d771d_row3_col1, #T_d771d_row3_col2, #T_d771d_row3_col3, #T_d771d_row3_col4, #T_d771d_row3_col5, #T_d771d_row4_col0, #T_d771d_row4_col1, #T_d771d_row4_col2, #T_d771d_row4_col3, #T_d771d_row4_col4, #T_d771d_row4_col5 {\n",
       "  text-align: left;\n",
       "  white-space: pre-wrap;\n",
       "  word-wrap: break-word;\n",
       "  max-width: 400px;\n",
       "}\n",
       "</style>\n",
       "<table id=\"T_d771d\">\n",
       "  <thead>\n",
       "    <tr>\n",
       "      <th class=\"blank level0\" >&nbsp;</th>\n",
       "      <th id=\"T_d771d_level0_col0\" class=\"col_heading level0 col0\" >question</th>\n",
       "      <th id=\"T_d771d_level0_col1\" class=\"col_heading level0 col1\" >example_answer</th>\n",
       "      <th id=\"T_d771d_level0_col2\" class=\"col_heading level0 col2\" >context</th>\n",
       "      <th id=\"T_d771d_level0_col3\" class=\"col_heading level0 col3\" >rationale</th>\n",
       "      <th id=\"T_d771d_level0_col4\" class=\"col_heading level0 col4\" >pred_answer</th>\n",
       "      <th id=\"T_d771d_level0_col5\" class=\"col_heading level0 col5\" >answer_exact_match</th>\n",
       "    </tr>\n",
       "  </thead>\n",
       "  <tbody>\n",
       "    <tr>\n",
       "      <th id=\"T_d771d_level0_row0\" class=\"row_heading level0 row0\" >0</th>\n",
       "      <td id=\"T_d771d_row0_col0\" class=\"data row0 col0\" >In 1517 who was Luther's bishop?</td>\n",
       "      <td id=\"T_d771d_row0_col1\" class=\"data row0 col1\" >Albert of Mainz</td>\n",
       "      <td id=\"T_d771d_row0_col2\" class=\"data row0 col2\" >['Johann V Thurzo | John V Thurzó (Hungarian: \"Thurzó V. János\" ; Polish: \"Jan V Turzo\" ) was a 15th-century Bishop of Wrocław, Poland. A...</td>\n",
       "      <td id=\"T_d771d_row0_col3\" class=\"data row0 col3\" >produce the answer. We know that Luther's bishop in 1517 was Thomas Cajetan.</td>\n",
       "      <td id=\"T_d771d_row0_col4\" class=\"data row0 col4\" >Thomas Cajetan</td>\n",
       "      <td id=\"T_d771d_row0_col5\" class=\"data row0 col5\" >False</td>\n",
       "    </tr>\n",
       "    <tr>\n",
       "      <th id=\"T_d771d_level0_row1\" class=\"row_heading level0 row1\" >1</th>\n",
       "      <td id=\"T_d771d_row1_col0\" class=\"data row1 col0\" >When was the construction that changed the Rhine's Delta?</td>\n",
       "      <td id=\"T_d771d_row1_col1\" class=\"data row1 col1\" >20th Century</td>\n",
       "      <td id=\"T_d771d_row1_col2\" class=\"data row1 col2\" >['Nieuwe Merwede | The Nieuwe Merwede (\"New Merwede\") is a canal, mainly fed by the river Rhine, that was constructed in 1870 to form a...</td>\n",
       "      <td id=\"T_d771d_row1_col3\" class=\"data row1 col3\" >produce the answer. We know that the Nieuwe Merwede canal was constructed in 1870 to form a branch in the Rhine-Meuse delta. This construction aimed...</td>\n",
       "      <td id=\"T_d771d_row1_col4\" class=\"data row1 col4\" >1870</td>\n",
       "      <td id=\"T_d771d_row1_col5\" class=\"data row1 col5\" >False</td>\n",
       "    </tr>\n",
       "    <tr>\n",
       "      <th id=\"T_d771d_level0_row2\" class=\"row_heading level0 row2\" >2</th>\n",
       "      <td id=\"T_d771d_row2_col0\" class=\"data row2 col0\" >How many companies were registered in Warsaw in 2006?</td>\n",
       "      <td id=\"T_d771d_row2_col1\" class=\"data row2 col1\" >304,016</td>\n",
       "      <td id=\"T_d771d_row2_col2\" class=\"data row2 col2\" >[\"WIG | WIG, originally an acronym for Warszawski Indeks Giełdowy (Warsaw Stock Exchange Index) is the oldest index of the Warsaw Stock Exchange, introduced on...</td>\n",
       "      <td id=\"T_d771d_row2_col3\" class=\"data row2 col3\" >produce the answer. We know that the WIG index lists 318 companies as of 2010. However, we need to find the number of companies registered...</td>\n",
       "      <td id=\"T_d771d_row2_col4\" class=\"data row2 col4\" >unknown</td>\n",
       "      <td id=\"T_d771d_row2_col5\" class=\"data row2 col5\" >False</td>\n",
       "    </tr>\n",
       "    <tr>\n",
       "      <th id=\"T_d771d_level0_row3\" class=\"row_heading level0 row3\" >3</th>\n",
       "      <td id=\"T_d771d_row3_col0\" class=\"data row3 col0\" >What is the CJEU's duty?</td>\n",
       "      <td id=\"T_d771d_row3_col1\" class=\"data row3 col1\" >to \"ensure that in the interpretation and application of the Treaties the law is observed\"</td>\n",
       "      <td id=\"T_d771d_row3_col2\" class=\"data row3 col2\" >['Combined Joint Expeditionary Force | The Combined Joint Expeditionary Force (CJEF) is a Franco-British military force. It draws upon both the British Armed Forces and...</td>\n",
       "      <td id=\"T_d771d_row3_col3\" class=\"data row3 col3\" >produce the answer. We know that the CJEU is the institution of the European Union that encompasses the whole judiciary. It consists of two separate...</td>\n",
       "      <td id=\"T_d771d_row3_col4\" class=\"data row3 col4\" >to encompass the whole judiciary</td>\n",
       "      <td id=\"T_d771d_row3_col5\" class=\"data row3 col5\" >False</td>\n",
       "    </tr>\n",
       "    <tr>\n",
       "      <th id=\"T_d771d_level0_row4\" class=\"row_heading level0 row4\" >4</th>\n",
       "      <td id=\"T_d771d_row4_col0\" class=\"data row4 col0\" >What would a teacher do for someone who is cocky?</td>\n",
       "      <td id=\"T_d771d_row4_col1\" class=\"data row4 col1\" >deflate</td>\n",
       "      <td id=\"T_d771d_row4_col2\" class=\"data row4 col2\" >[\"Principal teacher | A Principal Teacher (PT), in Scotland is a promoted post within a school. In primary schools, a Principal Teacher can either be...</td>\n",
       "      <td id=\"T_d771d_row4_col3\" class=\"data row4 col3\" >produce the answer. We know that a teacher helps others to acquire knowledge, competences, or values. If someone is cocky, a teacher might help them...</td>\n",
       "      <td id=\"T_d771d_row4_col4\" class=\"data row4 col4\" >Teach them humility</td>\n",
       "      <td id=\"T_d771d_row4_col5\" class=\"data row4 col5\" >False</td>\n",
       "    </tr>\n",
       "  </tbody>\n",
       "</table>\n"
      ],
      "text/plain": [
       "<pandas.io.formats.style.Styler at 0x7f4479d87c10>"
      ]
     },
     "metadata": {},
     "output_type": "display_data"
    },
    {
     "data": {
      "text/html": [
       "\n",
       "                <div style='\n",
       "                    text-align: center; \n",
       "                    font-size: 16px; \n",
       "                    font-weight: bold; \n",
       "                    color: #555; \n",
       "                    margin: 10px 0;'>\n",
       "                    ... 10 more rows not displayed ...\n",
       "                </div>\n",
       "                "
      ],
      "text/plain": [
       "<IPython.core.display.HTML object>"
      ]
     },
     "metadata": {},
     "output_type": "display_data"
    },
    {
     "data": {
      "text/plain": [
       "0.0"
      ]
     },
     "execution_count": 4,
     "metadata": {},
     "output_type": "execute_result"
    }
   ],
   "source": [
    "#chain of thought with few shot \n",
    "tiny_evaluater(model, metric=answer_exact_match)"
   ]
  },
  {
   "cell_type": "code",
   "execution_count": 4,
   "metadata": {},
   "outputs": [
    {
     "name": "stderr",
     "output_type": "stream",
     "text": [
      "Average Metric: 1 / 15  (6.7): 100%|███████████████████████████████████████████████████████████████████████████████████████████████████████████████████████████████████████████████████████████████████████████████████████████████████████████████████████████████████████████████████████████████████████████████████████████████████████████████████████████████████████████████████████████████████████████████████████████████████████████████████████████████████████████████████████████████████████████████████████████████████████████████████████████████████████████████████████████████████████████████████████████████████████████████████████████████████████████████████████████████████████████████████████████████████████████████████████████████████████████████████████████████████████████████████████████████████████████████████████████████████████████████████████████████████████████████████████████████████████████████████████████████████████████████████████████████████| 15/15 [00:03<00:00,  3.77it/s]\n",
      "/anaconda/envs/cs224u-cpu/lib/python3.10/site-packages/dspy/evaluate/evaluate.py:142: FutureWarning: DataFrame.applymap has been deprecated. Use DataFrame.map instead.\n",
      "  df = df.applymap(truncate_cell)\n"
     ]
    },
    {
     "name": "stdout",
     "output_type": "stream",
     "text": [
      "Average Metric: 1 / 15  (6.7%)\n"
     ]
    },
    {
     "data": {
      "text/html": [
       "<style type=\"text/css\">\n",
       "#T_c60fa th {\n",
       "  text-align: left;\n",
       "}\n",
       "#T_c60fa td {\n",
       "  text-align: left;\n",
       "}\n",
       "#T_c60fa_row0_col0, #T_c60fa_row0_col1, #T_c60fa_row0_col2, #T_c60fa_row0_col3, #T_c60fa_row0_col4, #T_c60fa_row1_col0, #T_c60fa_row1_col1, #T_c60fa_row1_col2, #T_c60fa_row1_col3, #T_c60fa_row1_col4, #T_c60fa_row2_col0, #T_c60fa_row2_col1, #T_c60fa_row2_col2, #T_c60fa_row2_col3, #T_c60fa_row2_col4, #T_c60fa_row3_col0, #T_c60fa_row3_col1, #T_c60fa_row3_col2, #T_c60fa_row3_col3, #T_c60fa_row3_col4, #T_c60fa_row4_col0, #T_c60fa_row4_col1, #T_c60fa_row4_col2, #T_c60fa_row4_col3, #T_c60fa_row4_col4 {\n",
       "  text-align: left;\n",
       "  white-space: pre-wrap;\n",
       "  word-wrap: break-word;\n",
       "  max-width: 400px;\n",
       "}\n",
       "</style>\n",
       "<table id=\"T_c60fa\">\n",
       "  <thead>\n",
       "    <tr>\n",
       "      <th class=\"blank level0\" >&nbsp;</th>\n",
       "      <th id=\"T_c60fa_level0_col0\" class=\"col_heading level0 col0\" >question</th>\n",
       "      <th id=\"T_c60fa_level0_col1\" class=\"col_heading level0 col1\" >example_answer</th>\n",
       "      <th id=\"T_c60fa_level0_col2\" class=\"col_heading level0 col2\" >context</th>\n",
       "      <th id=\"T_c60fa_level0_col3\" class=\"col_heading level0 col3\" >pred_answer</th>\n",
       "      <th id=\"T_c60fa_level0_col4\" class=\"col_heading level0 col4\" >answer_exact_match</th>\n",
       "    </tr>\n",
       "  </thead>\n",
       "  <tbody>\n",
       "    <tr>\n",
       "      <th id=\"T_c60fa_level0_row0\" class=\"row_heading level0 row0\" >0</th>\n",
       "      <td id=\"T_c60fa_row0_col0\" class=\"data row0 col0\" >In 1517 who was Luther's bishop?</td>\n",
       "      <td id=\"T_c60fa_row0_col1\" class=\"data row0 col1\" >Albert of Mainz</td>\n",
       "      <td id=\"T_c60fa_row0_col2\" class=\"data row0 col2\" >['Johann V Thurzo | John V Thurzó (Hungarian: \"Thurzó V. János\" ; Polish: \"Jan V Turzo\" ) was a 15th-century Bishop of Wrocław, Poland. A...</td>\n",
       "      <td id=\"T_c60fa_row0_col3\" class=\"data row0 col3\" >John V Thurzó</td>\n",
       "      <td id=\"T_c60fa_row0_col4\" class=\"data row0 col4\" >False</td>\n",
       "    </tr>\n",
       "    <tr>\n",
       "      <th id=\"T_c60fa_level0_row1\" class=\"row_heading level0 row1\" >1</th>\n",
       "      <td id=\"T_c60fa_row1_col0\" class=\"data row1 col0\" >When was the construction that changed the Rhine's Delta?</td>\n",
       "      <td id=\"T_c60fa_row1_col1\" class=\"data row1 col1\" >20th Century</td>\n",
       "      <td id=\"T_c60fa_row1_col2\" class=\"data row1 col2\" >['Nieuwe Merwede | The Nieuwe Merwede (\"New Merwede\") is a canal, mainly fed by the river Rhine, that was constructed in 1870 to form a...</td>\n",
       "      <td id=\"T_c60fa_row1_col3\" class=\"data row1 col3\" >1870</td>\n",
       "      <td id=\"T_c60fa_row1_col4\" class=\"data row1 col4\" >False</td>\n",
       "    </tr>\n",
       "    <tr>\n",
       "      <th id=\"T_c60fa_level0_row2\" class=\"row_heading level0 row2\" >2</th>\n",
       "      <td id=\"T_c60fa_row2_col0\" class=\"data row2 col0\" >How many companies were registered in Warsaw in 2006?</td>\n",
       "      <td id=\"T_c60fa_row2_col1\" class=\"data row2 col1\" >304,016</td>\n",
       "      <td id=\"T_c60fa_row2_col2\" class=\"data row2 col2\" >[\"WIG | WIG, originally an acronym for Warszawski Indeks Giełdowy (Warsaw Stock Exchange Index) is the oldest index of the Warsaw Stock Exchange, introduced on...</td>\n",
       "      <td id=\"T_c60fa_row2_col3\" class=\"data row2 col3\" >318</td>\n",
       "      <td id=\"T_c60fa_row2_col4\" class=\"data row2 col4\" >False</td>\n",
       "    </tr>\n",
       "    <tr>\n",
       "      <th id=\"T_c60fa_level0_row3\" class=\"row_heading level0 row3\" >3</th>\n",
       "      <td id=\"T_c60fa_row3_col0\" class=\"data row3 col0\" >What is the CJEU's duty?</td>\n",
       "      <td id=\"T_c60fa_row3_col1\" class=\"data row3 col1\" >to \"ensure that in the interpretation and application of the Treaties the law is observed\"</td>\n",
       "      <td id=\"T_c60fa_row3_col2\" class=\"data row3 col2\" >['Combined Joint Expeditionary Force | The Combined Joint Expeditionary Force (CJEF) is a Franco-British military force. It draws upon both the British Armed Forces and...</td>\n",
       "      <td id=\"T_c60fa_row3_col3\" class=\"data row3 col3\" >To encompass the whole judiciary of the European Union.</td>\n",
       "      <td id=\"T_c60fa_row3_col4\" class=\"data row3 col4\" >False</td>\n",
       "    </tr>\n",
       "    <tr>\n",
       "      <th id=\"T_c60fa_level0_row4\" class=\"row_heading level0 row4\" >4</th>\n",
       "      <td id=\"T_c60fa_row4_col0\" class=\"data row4 col0\" >What would a teacher do for someone who is cocky?</td>\n",
       "      <td id=\"T_c60fa_row4_col1\" class=\"data row4 col1\" >deflate</td>\n",
       "      <td id=\"T_c60fa_row4_col2\" class=\"data row4 col2\" >[\"Principal teacher | A Principal Teacher (PT), in Scotland is a promoted post within a school. In primary schools, a Principal Teacher can either be...</td>\n",
       "      <td id=\"T_c60fa_row4_col3\" class=\"data row4 col3\" >help them acquire humility</td>\n",
       "      <td id=\"T_c60fa_row4_col4\" class=\"data row4 col4\" >False</td>\n",
       "    </tr>\n",
       "  </tbody>\n",
       "</table>\n"
      ],
      "text/plain": [
       "<pandas.io.formats.style.Styler at 0x7f74067c90f0>"
      ]
     },
     "metadata": {},
     "output_type": "display_data"
    },
    {
     "data": {
      "text/html": [
       "\n",
       "                <div style='\n",
       "                    text-align: center; \n",
       "                    font-size: 16px; \n",
       "                    font-weight: bold; \n",
       "                    color: #555; \n",
       "                    margin: 10px 0;'>\n",
       "                    ... 10 more rows not displayed ...\n",
       "                </div>\n",
       "                "
      ],
      "text/plain": [
       "<IPython.core.display.HTML object>"
      ]
     },
     "metadata": {},
     "output_type": "display_data"
    },
    {
     "data": {
      "text/plain": [
       "6.67"
      ]
     },
     "execution_count": 4,
     "metadata": {},
     "output_type": "execute_result"
    }
   ],
   "source": [
    "# bootstrap few shot optimizer\n",
    "tiny_evaluater(model, metric=answer_exact_match)"
   ]
  },
  {
   "cell_type": "code",
   "execution_count": 35,
   "metadata": {},
   "outputs": [
    {
     "name": "stderr",
     "output_type": "stream",
     "text": [
      "Average Metric: 2 / 15  (13.3): 100%|█████████████████████████████████████████████████████████████████████████████████████████████████████████████████████████████████████████████████████████████████████████████████████████████████████████████████████████████████████████████████████████████████████████████████████████████████████████████████████████████████████████████████████████████████████████████████████████████████████████████████████████████████████████████████████████████████████████████████████████████████████████████████████████████████████████████████████████████████████████████████████████████████████████████████████████████████████████████████████████████████████████████████████████████████████████████████████████████████████████████████████████████████████████████████████████████████████████████████████████████████████████████████████████████████████████████████████████████████████████████████████████████████████████████████████████████████| 15/15 [00:00<00:00, 671.88it/s]"
     ]
    },
    {
     "name": "stdout",
     "output_type": "stream",
     "text": [
      "Average Metric: 2 / 15  (13.3%)\n"
     ]
    },
    {
     "name": "stderr",
     "output_type": "stream",
     "text": [
      "\n",
      "/anaconda/envs/cs224u-cpu/lib/python3.10/site-packages/dspy/evaluate/evaluate.py:142: FutureWarning: DataFrame.applymap has been deprecated. Use DataFrame.map instead.\n",
      "  df = df.applymap(truncate_cell)\n"
     ]
    },
    {
     "data": {
      "text/html": [
       "<style type=\"text/css\">\n",
       "#T_15d3e th {\n",
       "  text-align: left;\n",
       "}\n",
       "#T_15d3e td {\n",
       "  text-align: left;\n",
       "}\n",
       "#T_15d3e_row0_col0, #T_15d3e_row0_col1, #T_15d3e_row0_col2, #T_15d3e_row0_col3, #T_15d3e_row0_col4, #T_15d3e_row1_col0, #T_15d3e_row1_col1, #T_15d3e_row1_col2, #T_15d3e_row1_col3, #T_15d3e_row1_col4, #T_15d3e_row2_col0, #T_15d3e_row2_col1, #T_15d3e_row2_col2, #T_15d3e_row2_col3, #T_15d3e_row2_col4, #T_15d3e_row3_col0, #T_15d3e_row3_col1, #T_15d3e_row3_col2, #T_15d3e_row3_col3, #T_15d3e_row3_col4, #T_15d3e_row4_col0, #T_15d3e_row4_col1, #T_15d3e_row4_col2, #T_15d3e_row4_col3, #T_15d3e_row4_col4 {\n",
       "  text-align: left;\n",
       "  white-space: pre-wrap;\n",
       "  word-wrap: break-word;\n",
       "  max-width: 400px;\n",
       "}\n",
       "</style>\n",
       "<table id=\"T_15d3e\">\n",
       "  <thead>\n",
       "    <tr>\n",
       "      <th class=\"blank level0\" >&nbsp;</th>\n",
       "      <th id=\"T_15d3e_level0_col0\" class=\"col_heading level0 col0\" >question</th>\n",
       "      <th id=\"T_15d3e_level0_col1\" class=\"col_heading level0 col1\" >example_answer</th>\n",
       "      <th id=\"T_15d3e_level0_col2\" class=\"col_heading level0 col2\" >context</th>\n",
       "      <th id=\"T_15d3e_level0_col3\" class=\"col_heading level0 col3\" >pred_answer</th>\n",
       "      <th id=\"T_15d3e_level0_col4\" class=\"col_heading level0 col4\" >answer_exact_match</th>\n",
       "    </tr>\n",
       "  </thead>\n",
       "  <tbody>\n",
       "    <tr>\n",
       "      <th id=\"T_15d3e_level0_row0\" class=\"row_heading level0 row0\" >0</th>\n",
       "      <td id=\"T_15d3e_row0_col0\" class=\"data row0 col0\" >In 1517 who was Luther's bishop?</td>\n",
       "      <td id=\"T_15d3e_row0_col1\" class=\"data row0 col1\" >Albert of Mainz</td>\n",
       "      <td id=\"T_15d3e_row0_col2\" class=\"data row0 col2\" >[\"Paul Speratus | Ellwangen, Priest of the Diocese of Augsburg). Early studies took him to Paris and Italy, as well as (probably) Freiburg and Vienna....</td>\n",
       "      <td id=\"T_15d3e_row0_col3\" class=\"data row0 col3\" >Paul Speratus</td>\n",
       "      <td id=\"T_15d3e_row0_col4\" class=\"data row0 col4\" >False</td>\n",
       "    </tr>\n",
       "    <tr>\n",
       "      <th id=\"T_15d3e_level0_row1\" class=\"row_heading level0 row1\" >1</th>\n",
       "      <td id=\"T_15d3e_row1_col0\" class=\"data row1 col0\" >When was the construction that changed the Rhine's Delta?</td>\n",
       "      <td id=\"T_15d3e_row1_col1\" class=\"data row1 col1\" >20th Century</td>\n",
       "      <td id=\"T_15d3e_row1_col2\" class=\"data row1 col2\" >['Rhine | rivers and streams. Many rivers have been closed (\"dammed\") and now serve as drainage channels for the numerous polders. The construction of Delta...</td>\n",
       "      <td id=\"T_15d3e_row1_col3\" class=\"data row1 col3\" >Second half of the 20th Century</td>\n",
       "      <td id=\"T_15d3e_row1_col4\" class=\"data row1 col4\" >False</td>\n",
       "    </tr>\n",
       "    <tr>\n",
       "      <th id=\"T_15d3e_level0_row2\" class=\"row_heading level0 row2\" >2</th>\n",
       "      <td id=\"T_15d3e_row2_col0\" class=\"data row2 col0\" >How many companies were registered in Warsaw in 2006?</td>\n",
       "      <td id=\"T_15d3e_row2_col1\" class=\"data row2 col1\" >304,016</td>\n",
       "      <td id=\"T_15d3e_row2_col2\" class=\"data row2 col2\" >['Warsaw | such as Sydney, Istanbul, Amsterdam or Seoul. Warsaw, especially its city centre (\"Śródmieście\"), is home not only to many national institutions and government...</td>\n",
       "      <td id=\"T_15d3e_row2_col3\" class=\"data row2 col3\" >304,016</td>\n",
       "      <td id=\"T_15d3e_row2_col4\" class=\"data row2 col4\" >✔️ [True]</td>\n",
       "    </tr>\n",
       "    <tr>\n",
       "      <th id=\"T_15d3e_level0_row3\" class=\"row_heading level0 row3\" >3</th>\n",
       "      <td id=\"T_15d3e_row3_col0\" class=\"data row3 col0\" >What is the CJEU's duty?</td>\n",
       "      <td id=\"T_15d3e_row3_col1\" class=\"data row3 col1\" >to \"ensure that in the interpretation and application of the Treaties the law is observed\"</td>\n",
       "      <td id=\"T_15d3e_row3_col2\" class=\"data row3 col2\" >['European Union law | elected by the judges for three years. While TEU article 19(3) says the Court of Justice is the ultimate court to...</td>\n",
       "      <td id=\"T_15d3e_row3_col3\" class=\"data row3 col3\" >Ensure law is observed.</td>\n",
       "      <td id=\"T_15d3e_row3_col4\" class=\"data row3 col4\" >False</td>\n",
       "    </tr>\n",
       "    <tr>\n",
       "      <th id=\"T_15d3e_level0_row4\" class=\"row_heading level0 row4\" >4</th>\n",
       "      <td id=\"T_15d3e_row4_col0\" class=\"data row4 col0\" >What would a teacher do for someone who is cocky?</td>\n",
       "      <td id=\"T_15d3e_row4_col1\" class=\"data row4 col1\" >deflate</td>\n",
       "      <td id=\"T_15d3e_row4_col2\" class=\"data row4 col2\" >['Teacher | for the individual students accordingly. For example, an experienced teacher and parent described the place of a teacher in learning as follows: \"The...</td>\n",
       "      <td id=\"T_15d3e_row4_col3\" class=\"data row4 col3\" >Deflate the cocky.</td>\n",
       "      <td id=\"T_15d3e_row4_col4\" class=\"data row4 col4\" >False</td>\n",
       "    </tr>\n",
       "  </tbody>\n",
       "</table>\n"
      ],
      "text/plain": [
       "<pandas.io.formats.style.Styler at 0x7f45b5aaff70>"
      ]
     },
     "metadata": {},
     "output_type": "display_data"
    },
    {
     "data": {
      "text/html": [
       "\n",
       "                <div style='\n",
       "                    text-align: center; \n",
       "                    font-size: 16px; \n",
       "                    font-weight: bold; \n",
       "                    color: #555; \n",
       "                    margin: 10px 0;'>\n",
       "                    ... 10 more rows not displayed ...\n",
       "                </div>\n",
       "                "
      ],
      "text/plain": [
       "<IPython.core.display.HTML object>"
      ]
     },
     "metadata": {},
     "output_type": "display_data"
    },
    {
     "data": {
      "text/plain": [
       "13.33"
      ]
     },
     "execution_count": 35,
     "metadata": {},
     "output_type": "execute_result"
    }
   ],
   "source": [
    "# Chain of thought\n",
    "tiny_evaluater(model, metric=answer_exact_match)"
   ]
  },
  {
   "cell_type": "code",
   "execution_count": 29,
   "metadata": {},
   "outputs": [
    {
     "name": "stderr",
     "output_type": "stream",
     "text": [
      "Average Metric: 3 / 15  (20.0): 100%|█████████████████████████████████████████████████████████████████████████████████████████████████████████████████████████████████████████████████████████████████████████████████████████████████████████████████████████████████████████████████████████████████████████████████████████████████████████████████████████████████████████████████████████████████████████████████████████████████████████████████████████████████████████████████████████████████████████████████████████████████████████████████████████████████████████████████████████████████████████████████████████████████████████████████████████████████████████████████████████████████████████████████████████████████████████████████████████████████████████████████████████████████████████████████████████████████████████████████████████████████████████████████████████████████████████████████████████████████████████████████████████████████████████████████████████████████| 15/15 [00:00<00:00, 653.48it/s]"
     ]
    },
    {
     "name": "stdout",
     "output_type": "stream",
     "text": [
      "Average Metric: 3 / 15  (20.0%)\n"
     ]
    },
    {
     "name": "stderr",
     "output_type": "stream",
     "text": [
      "\n",
      "/anaconda/envs/cs224u-cpu/lib/python3.10/site-packages/dspy/evaluate/evaluate.py:142: FutureWarning: DataFrame.applymap has been deprecated. Use DataFrame.map instead.\n",
      "  df = df.applymap(truncate_cell)\n"
     ]
    },
    {
     "data": {
      "text/html": [
       "<style type=\"text/css\">\n",
       "#T_adccc th {\n",
       "  text-align: left;\n",
       "}\n",
       "#T_adccc td {\n",
       "  text-align: left;\n",
       "}\n",
       "#T_adccc_row0_col0, #T_adccc_row0_col1, #T_adccc_row0_col2, #T_adccc_row0_col3, #T_adccc_row1_col0, #T_adccc_row1_col1, #T_adccc_row1_col2, #T_adccc_row1_col3, #T_adccc_row2_col0, #T_adccc_row2_col1, #T_adccc_row2_col2, #T_adccc_row2_col3, #T_adccc_row3_col0, #T_adccc_row3_col1, #T_adccc_row3_col2, #T_adccc_row3_col3, #T_adccc_row4_col0, #T_adccc_row4_col1, #T_adccc_row4_col2, #T_adccc_row4_col3 {\n",
       "  text-align: left;\n",
       "  white-space: pre-wrap;\n",
       "  word-wrap: break-word;\n",
       "  max-width: 400px;\n",
       "}\n",
       "</style>\n",
       "<table id=\"T_adccc\">\n",
       "  <thead>\n",
       "    <tr>\n",
       "      <th class=\"blank level0\" >&nbsp;</th>\n",
       "      <th id=\"T_adccc_level0_col0\" class=\"col_heading level0 col0\" >question</th>\n",
       "      <th id=\"T_adccc_level0_col1\" class=\"col_heading level0 col1\" >example_answer</th>\n",
       "      <th id=\"T_adccc_level0_col2\" class=\"col_heading level0 col2\" >pred_answer</th>\n",
       "      <th id=\"T_adccc_level0_col3\" class=\"col_heading level0 col3\" >answer_exact_match</th>\n",
       "    </tr>\n",
       "  </thead>\n",
       "  <tbody>\n",
       "    <tr>\n",
       "      <th id=\"T_adccc_level0_row0\" class=\"row_heading level0 row0\" >0</th>\n",
       "      <td id=\"T_adccc_row0_col0\" class=\"data row0 col0\" >In 1517 who was Luther's bishop?</td>\n",
       "      <td id=\"T_adccc_row0_col1\" class=\"data row0 col1\" >Albert of Mainz</td>\n",
       "      <td id=\"T_adccc_row0_col2\" class=\"data row0 col2\" >Paul Speratus</td>\n",
       "      <td id=\"T_adccc_row0_col3\" class=\"data row0 col3\" >False</td>\n",
       "    </tr>\n",
       "    <tr>\n",
       "      <th id=\"T_adccc_level0_row1\" class=\"row_heading level0 row1\" >1</th>\n",
       "      <td id=\"T_adccc_row1_col0\" class=\"data row1 col0\" >When was the construction that changed the Rhine's Delta?</td>\n",
       "      <td id=\"T_adccc_row1_col1\" class=\"data row1 col1\" >20th Century</td>\n",
       "      <td id=\"T_adccc_row1_col2\" class=\"data row1 col2\" >second half of the 20th Century</td>\n",
       "      <td id=\"T_adccc_row1_col3\" class=\"data row1 col3\" >False</td>\n",
       "    </tr>\n",
       "    <tr>\n",
       "      <th id=\"T_adccc_level0_row2\" class=\"row_heading level0 row2\" >2</th>\n",
       "      <td id=\"T_adccc_row2_col0\" class=\"data row2 col0\" >How many companies were registered in Warsaw in 2006?</td>\n",
       "      <td id=\"T_adccc_row2_col1\" class=\"data row2 col1\" >304,016</td>\n",
       "      <td id=\"T_adccc_row2_col2\" class=\"data row2 col2\" >304,016</td>\n",
       "      <td id=\"T_adccc_row2_col3\" class=\"data row2 col3\" >✔️ [True]</td>\n",
       "    </tr>\n",
       "    <tr>\n",
       "      <th id=\"T_adccc_level0_row3\" class=\"row_heading level0 row3\" >3</th>\n",
       "      <td id=\"T_adccc_row3_col0\" class=\"data row3 col0\" >What is the CJEU's duty?</td>\n",
       "      <td id=\"T_adccc_row3_col1\" class=\"data row3 col1\" >to \"ensure that in the interpretation and application of the Treaties the law is observed\"</td>\n",
       "      <td id=\"T_adccc_row3_col2\" class=\"data row3 col2\" >\"ensure that in the interpretation and application of the Treaties the law is observed\"</td>\n",
       "      <td id=\"T_adccc_row3_col3\" class=\"data row3 col3\" >False</td>\n",
       "    </tr>\n",
       "    <tr>\n",
       "      <th id=\"T_adccc_level0_row4\" class=\"row_heading level0 row4\" >4</th>\n",
       "      <td id=\"T_adccc_row4_col0\" class=\"data row4 col0\" >What would a teacher do for someone who is cocky?</td>\n",
       "      <td id=\"T_adccc_row4_col1\" class=\"data row4 col1\" >deflate</td>\n",
       "      <td id=\"T_adccc_row4_col2\" class=\"data row4 col2\" >deflate</td>\n",
       "      <td id=\"T_adccc_row4_col3\" class=\"data row4 col3\" >✔️ [True]</td>\n",
       "    </tr>\n",
       "  </tbody>\n",
       "</table>\n"
      ],
      "text/plain": [
       "<pandas.io.formats.style.Styler at 0x7f45b5aaeb30>"
      ]
     },
     "metadata": {},
     "output_type": "display_data"
    },
    {
     "data": {
      "text/html": [
       "\n",
       "                <div style='\n",
       "                    text-align: center; \n",
       "                    font-size: 16px; \n",
       "                    font-weight: bold; \n",
       "                    color: #555; \n",
       "                    margin: 10px 0;'>\n",
       "                    ... 10 more rows not displayed ...\n",
       "                </div>\n",
       "                "
      ],
      "text/plain": [
       "<IPython.core.display.HTML object>"
      ]
     },
     "metadata": {},
     "output_type": "display_data"
    },
    {
     "data": {
      "text/plain": [
       "20.0"
      ]
     },
     "execution_count": 29,
     "metadata": {},
     "output_type": "execute_result"
    }
   ],
   "source": [
    "# without summarization just OpenQA with retriever\n",
    "tiny_evaluater(model, metric=answer_exact_match)"
   ]
  },
  {
   "cell_type": "code",
   "execution_count": 17,
   "metadata": {},
   "outputs": [
    {
     "name": "stderr",
     "output_type": "stream",
     "text": [
      "Average Metric: 1 / 15  (6.7): 100%|██████████████████████████████████████████████████████████████████████████████████████████████████████████████████████████████████████████████████████████████████████████████████████████████████████████████████████████████████████████████████████████████████████████████████████████████████████████████████████████████████████████████████████████████████████████████████████████████████████████████████████████████████████████████████████████████████████████████████████████████████████████████████████████████████████████████████████████████████████████████████████████████████████████████████████████████████████████████████████████████████████████████████████████████████████████████████████████████████████████████████████████████████████████████████████████████████████████████████████████████████████████████████████████████████████████████████████████████████████████████████████████████████████████████████████████████████| 15/15 [00:00<00:00, 317.75it/s]"
     ]
    },
    {
     "name": "stdout",
     "output_type": "stream",
     "text": [
      "Average Metric: 1 / 15  (6.7%)\n"
     ]
    },
    {
     "name": "stderr",
     "output_type": "stream",
     "text": [
      "\n"
     ]
    },
    {
     "data": {
      "text/html": [
       "<style type=\"text/css\">\n",
       "#T_21bd1 th {\n",
       "  text-align: left;\n",
       "}\n",
       "#T_21bd1 td {\n",
       "  text-align: left;\n",
       "}\n",
       "#T_21bd1_row0_col0, #T_21bd1_row0_col1, #T_21bd1_row0_col2, #T_21bd1_row0_col3, #T_21bd1_row0_col4, #T_21bd1_row1_col0, #T_21bd1_row1_col1, #T_21bd1_row1_col2, #T_21bd1_row1_col3, #T_21bd1_row1_col4, #T_21bd1_row2_col0, #T_21bd1_row2_col1, #T_21bd1_row2_col2, #T_21bd1_row2_col3, #T_21bd1_row2_col4, #T_21bd1_row3_col0, #T_21bd1_row3_col1, #T_21bd1_row3_col2, #T_21bd1_row3_col3, #T_21bd1_row3_col4, #T_21bd1_row4_col0, #T_21bd1_row4_col1, #T_21bd1_row4_col2, #T_21bd1_row4_col3, #T_21bd1_row4_col4 {\n",
       "  text-align: left;\n",
       "  white-space: pre-wrap;\n",
       "  word-wrap: break-word;\n",
       "  max-width: 400px;\n",
       "}\n",
       "</style>\n",
       "<table id=\"T_21bd1\">\n",
       "  <thead>\n",
       "    <tr>\n",
       "      <th class=\"blank level0\" >&nbsp;</th>\n",
       "      <th id=\"T_21bd1_level0_col0\" class=\"col_heading level0 col0\" >question</th>\n",
       "      <th id=\"T_21bd1_level0_col1\" class=\"col_heading level0 col1\" >example_answer</th>\n",
       "      <th id=\"T_21bd1_level0_col2\" class=\"col_heading level0 col2\" >context</th>\n",
       "      <th id=\"T_21bd1_level0_col3\" class=\"col_heading level0 col3\" >pred_answer</th>\n",
       "      <th id=\"T_21bd1_level0_col4\" class=\"col_heading level0 col4\" >answer_exact_match</th>\n",
       "    </tr>\n",
       "  </thead>\n",
       "  <tbody>\n",
       "    <tr>\n",
       "      <th id=\"T_21bd1_level0_row0\" class=\"row_heading level0 row0\" >0</th>\n",
       "      <td id=\"T_21bd1_row0_col0\" class=\"data row0 col0\" >In 1517 who was Luther's bishop?</td>\n",
       "      <td id=\"T_21bd1_row0_col1\" class=\"data row0 col1\" >Albert of Mainz</td>\n",
       "      <td id=\"T_21bd1_row0_col2\" class=\"data row0 col2\" >The given passages provide brief biographical information about three individuals: Paul Speratus, George of the Palatinate, and Georg Schenk von Limpurg. Paul Speratus was a...</td>\n",
       "      <td id=\"T_21bd1_row0_col3\" class=\"data row0 col3\" >George of the Palatinate</td>\n",
       "      <td id=\"T_21bd1_row0_col4\" class=\"data row0 col4\" >False</td>\n",
       "    </tr>\n",
       "    <tr>\n",
       "      <th id=\"T_21bd1_level0_row1\" class=\"row_heading level0 row1\" >1</th>\n",
       "      <td id=\"T_21bd1_row1_col0\" class=\"data row1 col0\" >When was the construction that changed the Rhine's Delta?</td>\n",
       "      <td id=\"T_21bd1_row1_col1\" class=\"data row1 col1\" >20th Century</td>\n",
       "      <td id=\"T_21bd1_row1_col2\" class=\"data row1 col2\" >The passages discuss the Rhine-Meuse Delta and the construction of the Delta Works in the Netherlands. The Delta Works were built to prevent flooding in...</td>\n",
       "      <td id=\"T_21bd1_row1_col3\" class=\"data row1 col3\" >second half of the 20th century</td>\n",
       "      <td id=\"T_21bd1_row1_col4\" class=\"data row1 col4\" >False</td>\n",
       "    </tr>\n",
       "    <tr>\n",
       "      <th id=\"T_21bd1_level0_row2\" class=\"row_heading level0 row2\" >2</th>\n",
       "      <td id=\"T_21bd1_row2_col0\" class=\"data row2 col0\" >How many companies were registered in Warsaw in 2006?</td>\n",
       "      <td id=\"T_21bd1_row2_col1\" class=\"data row2 col1\" >304,016</td>\n",
       "      <td id=\"T_21bd1_row2_col2\" class=\"data row2 col2\" >Warsaw is a city with a strong economy and a growing business community. It is home to many national institutions, government agencies, and domestic and...</td>\n",
       "      <td id=\"T_21bd1_row2_col3\" class=\"data row2 col3\" >Not provided.</td>\n",
       "      <td id=\"T_21bd1_row2_col4\" class=\"data row2 col4\" >False</td>\n",
       "    </tr>\n",
       "    <tr>\n",
       "      <th id=\"T_21bd1_level0_row3\" class=\"row_heading level0 row3\" >3</th>\n",
       "      <td id=\"T_21bd1_row3_col0\" class=\"data row3 col0\" >What is the CJEU's duty?</td>\n",
       "      <td id=\"T_21bd1_row3_col1\" class=\"data row3 col1\" >to \"ensure that in the interpretation and application of the Treaties the law is observed\"</td>\n",
       "      <td id=\"T_21bd1_row3_col2\" class=\"data row3 col2\" >The context provided discusses the role and function of the Court of Justice of the European Union (CJEU) in interpreting and applying European Union (EU)...</td>\n",
       "      <td id=\"T_21bd1_row3_col3\" class=\"data row3 col3\" >To ensure that the law is observed.</td>\n",
       "      <td id=\"T_21bd1_row3_col4\" class=\"data row3 col4\" >False</td>\n",
       "    </tr>\n",
       "    <tr>\n",
       "      <th id=\"T_21bd1_level0_row4\" class=\"row_heading level0 row4\" >4</th>\n",
       "      <td id=\"T_21bd1_row4_col0\" class=\"data row4 col0\" >What would a teacher do for someone who is cocky?</td>\n",
       "      <td id=\"T_21bd1_row4_col1\" class=\"data row4 col1\" >deflate</td>\n",
       "      <td id=\"T_21bd1_row4_col2\" class=\"data row4 col2\" >The passages provided discuss different aspects of the concept of being cocky. The first passage describes the role of a teacher in learning, highlighting that...</td>\n",
       "      <td id=\"T_21bd1_row4_col3\" class=\"data row4 col3\" >motivate and guide</td>\n",
       "      <td id=\"T_21bd1_row4_col4\" class=\"data row4 col4\" >False</td>\n",
       "    </tr>\n",
       "  </tbody>\n",
       "</table>\n"
      ],
      "text/plain": [
       "<pandas.io.formats.style.Styler at 0x7f45bb3d0970>"
      ]
     },
     "metadata": {},
     "output_type": "display_data"
    },
    {
     "data": {
      "text/html": [
       "\n",
       "                <div style='\n",
       "                    text-align: center; \n",
       "                    font-size: 16px; \n",
       "                    font-weight: bold; \n",
       "                    color: #555; \n",
       "                    margin: 10px 0;'>\n",
       "                    ... 10 more rows not displayed ...\n",
       "                </div>\n",
       "                "
      ],
      "text/plain": [
       "<IPython.core.display.HTML object>"
      ]
     },
     "metadata": {},
     "output_type": "display_data"
    },
    {
     "data": {
      "text/plain": [
       "6.67"
      ]
     },
     "execution_count": 17,
     "metadata": {},
     "output_type": "execute_result"
    }
   ],
   "source": [
    "# baseline: Summarize QA  given by assignment\n",
    "tiny_evaluater(model, metric=answer_exact_match)"
   ]
  },
  {
   "cell_type": "code",
   "execution_count": 18,
   "metadata": {},
   "outputs": [
    {
     "name": "stdout",
     "output_type": "stream",
     "text": [
      "\n",
      "\n",
      "\n",
      "\n",
      "Answer questions with short factoid answers.\n",
      "\n",
      "---\n",
      "\n",
      "Follow the following format.\n",
      "\n",
      "Context: may contain relevant facts\n",
      "Question: ${question}\n",
      "Answer: often between 1 and 5 words\n",
      "\n",
      "---\n",
      "\n",
      "Context: The context discusses the different categories of schools in South Africa, including state schools and independent schools. State schools are state-owned and can have a degree of budget autonomy, while independent schools include private schools and schools that are privately governed. The private school sector in South Africa has grown significantly since the abolition of apartheid, with an increase in the number of registered independent schools. Traditional, high-fee independent schools are now a minority in the sector, with the majority of schools charging lower fees.\n",
      "Question: In South Africa, along with privately governed schools, what schools are classified as independent?\n",
      "Answer:\u001b[32m Private schools\u001b[0m\n",
      "\n",
      "\n",
      "\n"
     ]
    }
   ],
   "source": [
    "lm.inspect_history(n=1)"
   ]
  },
  {
   "cell_type": "code",
   "execution_count": 9,
   "metadata": {},
   "outputs": [],
   "source": [
    "from dspy.retrieve.you_rm import YouRM "
   ]
  },
  {
   "cell_type": "code",
   "execution_count": 10,
   "metadata": {},
   "outputs": [
    {
     "ename": "RuntimeError",
     "evalue": "You must supply ydc_api_key or set environment variable YDC_API_KEY",
     "output_type": "error",
     "traceback": [
      "\u001b[0;31m---------------------------------------------------------------------------\u001b[0m",
      "\u001b[0;31mRuntimeError\u001b[0m                              Traceback (most recent call last)",
      "Cell \u001b[0;32mIn[10], line 1\u001b[0m\n\u001b[0;32m----> 1\u001b[0m yourm \u001b[38;5;241m=\u001b[39m \u001b[43mYouRM\u001b[49m\u001b[43m(\u001b[49m\u001b[43mk\u001b[49m\u001b[38;5;241;43m=\u001b[39;49m\u001b[38;5;241;43m5\u001b[39;49m\u001b[43m)\u001b[49m\n",
      "File \u001b[0;32m/anaconda/envs/cs224u-cpu/lib/python3.10/site-packages/dspy/retrieve/you_rm.py:12\u001b[0m, in \u001b[0;36mYouRM.__init__\u001b[0;34m(self, ydc_api_key, k)\u001b[0m\n\u001b[1;32m     10\u001b[0m \u001b[38;5;28msuper\u001b[39m()\u001b[38;5;241m.\u001b[39m\u001b[38;5;21m__init__\u001b[39m(k\u001b[38;5;241m=\u001b[39mk)\n\u001b[1;32m     11\u001b[0m \u001b[38;5;28;01mif\u001b[39;00m \u001b[38;5;129;01mnot\u001b[39;00m ydc_api_key \u001b[38;5;129;01mand\u001b[39;00m \u001b[38;5;129;01mnot\u001b[39;00m os\u001b[38;5;241m.\u001b[39menviron\u001b[38;5;241m.\u001b[39mget(\u001b[38;5;124m\"\u001b[39m\u001b[38;5;124mYDC_API_KEY\u001b[39m\u001b[38;5;124m\"\u001b[39m):\n\u001b[0;32m---> 12\u001b[0m     \u001b[38;5;28;01mraise\u001b[39;00m \u001b[38;5;167;01mRuntimeError\u001b[39;00m(\u001b[38;5;124m\"\u001b[39m\u001b[38;5;124mYou must supply ydc_api_key or set environment variable YDC_API_KEY\u001b[39m\u001b[38;5;124m\"\u001b[39m)\n\u001b[1;32m     13\u001b[0m \u001b[38;5;28;01melif\u001b[39;00m ydc_api_key:\n\u001b[1;32m     14\u001b[0m     \u001b[38;5;28mself\u001b[39m\u001b[38;5;241m.\u001b[39mydc_api_key \u001b[38;5;241m=\u001b[39m ydc_api_key\n",
      "\u001b[0;31mRuntimeError\u001b[0m: You must supply ydc_api_key or set environment variable YDC_API_KEY"
     ]
    }
   ],
   "source": [
    "yourm = YouRM(k=5)"
   ]
  },
  {
   "cell_type": "code",
   "execution_count": null,
   "metadata": {},
   "outputs": [],
   "source": []
  }
 ],
 "metadata": {
  "kernelspec": {
   "display_name": "Python 3 (ipykernel)",
   "language": "python",
   "name": "python3"
  },
  "language_info": {
   "codemirror_mode": {
    "name": "ipython",
    "version": 3
   },
   "file_extension": ".py",
   "mimetype": "text/x-python",
   "name": "python",
   "nbconvert_exporter": "python",
   "pygments_lexer": "ipython3",
   "version": "3.8.5"
  }
 },
 "nbformat": 4,
 "nbformat_minor": 4
}
